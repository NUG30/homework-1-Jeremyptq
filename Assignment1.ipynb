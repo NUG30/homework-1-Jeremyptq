{
  "nbformat": 4,
  "nbformat_minor": 0,
  "metadata": {
    "colab": {
      "name": "Assignment1.ipynb",
      "provenance": [],
      "collapsed_sections": [],
      "include_colab_link": true
    },
    "kernelspec": {
      "name": "python3",
      "display_name": "Python 3"
    }
  },
  "cells": [
    {
      "cell_type": "markdown",
      "metadata": {
        "id": "view-in-github",
        "colab_type": "text"
      },
      "source": [
        "<a href=\"https://colab.research.google.com/github/NUG30/homework-1-Jeremyptq/blob/main/Assignment1.ipynb\" target=\"_parent\"><img src=\"https://colab.research.google.com/assets/colab-badge.svg\" alt=\"Open In Colab\"/></a>"
      ]
    },
    {
      "cell_type": "markdown",
      "metadata": {
        "id": "6cRdXGYzOlil"
      },
      "source": [
        "# Homework 1: Introduction to Python and NumPy\n",
        "\n",
        "In this homework, we will learn to do some basic linear algebra (and other numeric) computations using the Python programming language and the NumPy library. First, we want to _import_ the NumPy and Matplotlib libraries, which we will use throughout the homework. You must execute the following code block before you execute any other code in this file."
      ]
    },
    {
      "cell_type": "code",
      "metadata": {
        "id": "VW0xyjK3Rwj1"
      },
      "source": [
        "import numpy as np\n",
        "import matplotlib.pyplot as plt"
      ],
      "execution_count": null,
      "outputs": []
    },
    {
      "cell_type": "markdown",
      "metadata": {
        "id": "pNoAykUSQj74"
      },
      "source": [
        "## Example 1: adding two matrices\n",
        "In linear algebra, you learned that adding matrices is easy. To add a matrix $A$ and $B$, you just perform addition component-wise. You cannot, however, add \n",
        "two matrices of different dimensions.\n",
        "\n",
        "In NumPy, matrices are represented as `numpy.array` (for those familiar with computer programming, this name might be misleading). Let us create a $2 \\times 3$ matrix in NumPy as an example:"
      ]
    },
    {
      "cell_type": "code",
      "metadata": {
        "id": "2Metmv13RVE0",
        "outputId": "39786315-ca21-4294-c744-ae540b9b5321",
        "colab": {
          "base_uri": "https://localhost:8080/",
          "height": 57
        }
      },
      "source": [
        "np.array([[1, 2, 3],\n",
        "          [4, 5, 6]])"
      ],
      "execution_count": null,
      "outputs": [
        {
          "output_type": "execute_result",
          "data": {
            "text/plain": [
              "array([[1, 2, 3],\n",
              "       [4, 5, 6]])"
            ]
          },
          "metadata": {
            "tags": []
          },
          "execution_count": 2
        }
      ]
    },
    {
      "cell_type": "markdown",
      "metadata": {
        "id": "Ni_Y0wQ3R9kZ"
      },
      "source": [
        "Try changing the dimensions of the matrix and add more (or remove some) elements to the matrix above!"
      ]
    },
    {
      "cell_type": "markdown",
      "metadata": {
        "id": "tJb1n1cRSI0x"
      },
      "source": [
        "Next, we move on to adding two matrices. We want to add each component of the matrices one by one, so we use a _loop_ to accomplish it. "
      ]
    },
    {
      "cell_type": "code",
      "metadata": {
        "id": "h7ampMjdSHAH"
      },
      "source": [
        "def matrix_add(A, B):\n",
        "  # create a new array with the same dimensions to hold the result\n",
        "  M = np.empty(A.shape)\n",
        "  # get the height of the array\n",
        "  m = len(A)\n",
        "  # iterate through each row\n",
        "  for i in range(m):\n",
        "    # get the size of the i-th row\n",
        "    n = len(A[i])\n",
        "    # then iterate the row\n",
        "    for j in range(n):\n",
        "      M[i][j] = A[i][j] + B[i][j]\n",
        "  \n",
        "  # return the final result\n",
        "  # never forget to RETURN the result of your computation!\n",
        "  return M"
      ],
      "execution_count": null,
      "outputs": []
    },
    {
      "cell_type": "markdown",
      "metadata": {
        "id": "iQ6CfUG1UmmX"
      },
      "source": [
        "We have defined a _function_ `matrix_add` that takes two arguments, $A$ and $B$, which should be matrices of the same size, and _returns_ the result of the addition. We can run the function to check if our function is correct:"
      ]
    },
    {
      "cell_type": "code",
      "metadata": {
        "id": "7r6huvDmUl8f",
        "outputId": "0f362714-dbca-4ce3-d5b5-07abf70ac2e9",
        "colab": {
          "base_uri": "https://localhost:8080/",
          "height": 57
        }
      },
      "source": [
        "A = np.array([[1, 2, 3],\n",
        "              [4, 5, 6]])\n",
        "B = np.array([[2, 3, 4],\n",
        "              [5, 6, 7]])\n",
        "\n",
        "matrix_add(A, B)"
      ],
      "execution_count": null,
      "outputs": [
        {
          "output_type": "execute_result",
          "data": {
            "text/plain": [
              "array([[ 3.,  5.,  7.],\n",
              "       [ 9., 11., 13.]])"
            ]
          },
          "metadata": {
            "tags": []
          },
          "execution_count": 4
        }
      ]
    },
    {
      "cell_type": "markdown",
      "metadata": {
        "id": "vMZA7idOVRKj"
      },
      "source": [
        "However, there is a flaw in this function! If we give it two matrices of different sizes, the function will fail mysteriously. Try changing the code above to observe what happens. For this reason, we might want to check beforehand that $A$ and $B$ have the same dimensions, and if they do not, we want to be informed that the input is invalid. To do this, we can use a _conditional statement_ to check if they have the same dimensions, and _throw an exception_ if they do not:"
      ]
    },
    {
      "cell_type": "code",
      "metadata": {
        "id": "sry171hSWE2D"
      },
      "source": [
        "def matrix_add_improved(A, B):\n",
        "  # check that A and B have the same shape\n",
        "  if (A.shape != B.shape):\n",
        "    # if not, then raise an exception\n",
        "    raise Exception(\"Cannot add matrices of different dimensions!\")\n",
        "\n",
        "  M = np.empty(A.shape)\n",
        "  m = len(A)\n",
        "  for i in range(m):\n",
        "    n = len(A[i])\n",
        "    for j in range(n):\n",
        "      M[i][j] = A[i][j] + B[i][j]\n",
        "  \n",
        "  return M"
      ],
      "execution_count": null,
      "outputs": []
    },
    {
      "cell_type": "markdown",
      "metadata": {
        "id": "6PdDsDgLWUxn"
      },
      "source": [
        "Now, when we attempt to add matrices of different dimensions, we will receive an error that tells us precisely so:"
      ]
    },
    {
      "cell_type": "code",
      "metadata": {
        "id": "8lZ2nR8eWjUK",
        "outputId": "6fb215d0-910a-4cdd-a912-b8399d45b666",
        "colab": {
          "base_uri": "https://localhost:8080/",
          "height": 364
        }
      },
      "source": [
        "A = np.array([[1, 2],\n",
        "              [3, 4]])\n",
        "B = np.array([[1, 2, 3],\n",
        "              [4, 5, 6]])\n",
        "\n",
        "matrix_add_improved(A, B)"
      ],
      "execution_count": null,
      "outputs": [
        {
          "output_type": "error",
          "ename": "Exception",
          "evalue": "ignored",
          "traceback": [
            "\u001b[0;31m---------------------------------------------------------------------------\u001b[0m",
            "\u001b[0;31mException\u001b[0m                                 Traceback (most recent call last)",
            "\u001b[0;32m<ipython-input-6-c31c64477c8e>\u001b[0m in \u001b[0;36m<module>\u001b[0;34m()\u001b[0m\n\u001b[1;32m      4\u001b[0m               [4, 5, 6]])\n\u001b[1;32m      5\u001b[0m \u001b[0;34m\u001b[0m\u001b[0m\n\u001b[0;32m----> 6\u001b[0;31m \u001b[0mmatrix_add_improved\u001b[0m\u001b[0;34m(\u001b[0m\u001b[0mA\u001b[0m\u001b[0;34m,\u001b[0m \u001b[0mB\u001b[0m\u001b[0;34m)\u001b[0m\u001b[0;34m\u001b[0m\u001b[0;34m\u001b[0m\u001b[0m\n\u001b[0m",
            "\u001b[0;32m<ipython-input-5-84503ee20f0f>\u001b[0m in \u001b[0;36mmatrix_add_improved\u001b[0;34m(A, B)\u001b[0m\n\u001b[1;32m      3\u001b[0m   \u001b[0;32mif\u001b[0m \u001b[0;34m(\u001b[0m\u001b[0mA\u001b[0m\u001b[0;34m.\u001b[0m\u001b[0mshape\u001b[0m \u001b[0;34m!=\u001b[0m \u001b[0mB\u001b[0m\u001b[0;34m.\u001b[0m\u001b[0mshape\u001b[0m\u001b[0;34m)\u001b[0m\u001b[0;34m:\u001b[0m\u001b[0;34m\u001b[0m\u001b[0;34m\u001b[0m\u001b[0m\n\u001b[1;32m      4\u001b[0m     \u001b[0;31m# if not, then raise an exception\u001b[0m\u001b[0;34m\u001b[0m\u001b[0;34m\u001b[0m\u001b[0;34m\u001b[0m\u001b[0m\n\u001b[0;32m----> 5\u001b[0;31m     \u001b[0;32mraise\u001b[0m \u001b[0mException\u001b[0m\u001b[0;34m(\u001b[0m\u001b[0;34m\"Cannot add matrices of different dimensions!\"\u001b[0m\u001b[0;34m)\u001b[0m\u001b[0;34m\u001b[0m\u001b[0;34m\u001b[0m\u001b[0m\n\u001b[0m\u001b[1;32m      6\u001b[0m \u001b[0;34m\u001b[0m\u001b[0m\n\u001b[1;32m      7\u001b[0m   \u001b[0mM\u001b[0m \u001b[0;34m=\u001b[0m \u001b[0mnp\u001b[0m\u001b[0;34m.\u001b[0m\u001b[0mempty\u001b[0m\u001b[0;34m(\u001b[0m\u001b[0mA\u001b[0m\u001b[0;34m.\u001b[0m\u001b[0mshape\u001b[0m\u001b[0;34m)\u001b[0m\u001b[0;34m\u001b[0m\u001b[0;34m\u001b[0m\u001b[0m\n",
            "\u001b[0;31mException\u001b[0m: Cannot add matrices of different dimensions!"
          ]
        }
      ]
    },
    {
      "cell_type": "markdown",
      "metadata": {
        "id": "EuS0zjyVWzAV"
      },
      "source": [
        "That's much better! Generally we do not require that you add such \"sanity checks\" in your programs for this course, but it could never hurt you (and often help you) to do so. In this assignment, we ask you to check for dimensional errors to familiarize you with Python."
      ]
    },
    {
      "cell_type": "markdown",
      "metadata": {
        "id": "oCdjl4W_XPQG"
      },
      "source": [
        "Next, it is your turn to do some things!"
      ]
    },
    {
      "cell_type": "markdown",
      "metadata": {
        "id": "zzPC7Kf5XR2l"
      },
      "source": [
        "## Exercise 0: find the transpose of a matrix\n",
        "Given a matrix $A$, its transpose $A^T$ is just the matrix \"rotated 90 degrees\". In other words, $A^T[i, j] = A[j, i]$. Now, write a Python function to find the transpose of a given matrix. \n",
        "(Hint: what is the dimension of the transpose of a $m \\times n$ matrix?)\n",
        "\n",
        "This exercise is intended as a warm-up, so if you are already quite familiar with Python, you may skip it. If you are not, then you are strongly adviced to attempt it!"
      ]
    },
    {
      "cell_type": "code",
      "metadata": {
        "id": "Vi0ENCHJX2U0"
      },
      "source": [
        "def transpose(A):\n",
        "  # fill in here\n",
        "  # remove the line below after you are done\n",
        "  raise NotImplemented"
      ],
      "execution_count": null,
      "outputs": []
    },
    {
      "cell_type": "markdown",
      "metadata": {
        "id": "n48sdWg4X6Xn"
      },
      "source": [
        "## Exercise 1: multiplying two matrices\n",
        "Again, this is something you learned in your linear algebra class. Given two matrices $A$ and $B$, write a function that multiplies them.\n",
        "\n",
        "The textbook method to multiply to matrices is sufficient, although this is not the most efficient way. If you have a lot of programming experience, you can try to implement some sort of \"fast matrix multiplication\", such as [Strassen's algorithm](https://en.wikipedia.org/wiki/Strassen_algorithm).\n",
        "\n",
        "(Hint: again, pay attention to the dimensions!)"
      ]
    },
    {
      "cell_type": "code",
      "metadata": {
        "id": "EIe_enf3YVEx"
      },
      "source": [
        "# The program is much simpler using recursion, but I wrote this before knowing about it. \n",
        "# I tested both versions and surprisingly the multiplication takes a similar amount of time to perform.\n",
        "# They are both extremely slow compared to numpy's matmul, which is to be expected since I've just naively copied the algorithm with no optimization and the code's also garbage.\n",
        "\n",
        "\n",
        "def strassen_matmul(A_ori, B_ori):\n",
        "\n",
        "\n",
        "    # Splits matrix in four and stores input11...input22 and their Ms in the directories\n",
        "    def strassen_split(A_strsplit, B_strsplit, level):\n",
        "\n",
        "        (A11, A12) = np.hsplit(np.vsplit(A_strsplit, 2)[0], 2)\n",
        "        (A21, A22) = np.hsplit(np.vsplit(A_strsplit, 2)[1], 2)\n",
        "        (B11, B12) = np.hsplit(np.vsplit(B_strsplit, 2)[0], 2)\n",
        "        (B21, B22) = np.hsplit(np.vsplit(B_strsplit, 2)[1], 2)\n",
        "\n",
        "        A_directory[level].append([A11.copy(), A12.copy(), A21.copy(), A22.copy()])\n",
        "        B_directory[level].append([B11.copy(), B12.copy(), B21.copy(), B22.copy()])\n",
        "\n",
        "        M = 8 * [None]\n",
        "        M[1] = [(A11 + A22), (B11 + B22)]\n",
        "        M[2] = [(A21 + A22), (B11)]\n",
        "        M[3] = [(A11), (B12 - B22)]\n",
        "        M[4] = [(A22), (B21 - B11)]\n",
        "        M[5] = [(A11 + A12), (B22)]\n",
        "        M[6] = [(A21 - A11), (B11 + B12)]\n",
        "        M[7] = [(A12 - A22), (B21 + B22)]\n",
        "\n",
        "        A_directory[level].append([M[1][0].copy(), M[2][0].copy(), M[3][0].copy(), M[4][0].copy(), M[5][0].copy(), M[6][0].copy(), M[7][0].copy()])\n",
        "        B_directory[level].append([M[1][1].copy(), M[2][1].copy(), M[3][1].copy(), M[4][1].copy(), M[5][1].copy(), M[6][1].copy(), M[7][1].copy()])\n",
        "\n",
        "        return 0\n",
        "\n",
        "\n",
        "    # Calculates the Cs from the Ms and combines them using information from the directories and returns the final solution\n",
        "    def strassen_stack(A_strstack, B_strstack, order):\n",
        "\n",
        "        C_directory = order * [None]\n",
        "\n",
        "        for i in range(order):\n",
        "\n",
        "            C_directory[i] = []\n",
        "\n",
        "            if i == 0:\n",
        "                for j in range(7 ** (order - 1)):\n",
        "                    M1 = A_strstack[n][2 * j + 1][0] * B_strstack[n][2 * j + 1][0]\n",
        "                    M2 = A_strstack[n][2 * j + 1][1] * B_strstack[n][2 * j + 1][1]\n",
        "                    M3 = A_strstack[n][2 * j + 1][2] * B_strstack[n][2 * j + 1][2]\n",
        "                    M4 = A_strstack[n][2 * j + 1][3] * B_strstack[n][2 * j + 1][3]\n",
        "                    M5 = A_strstack[n][2 * j + 1][4] * B_strstack[n][2 * j + 1][4]\n",
        "                    M6 = A_strstack[n][2 * j + 1][5] * B_strstack[n][2 * j + 1][5]\n",
        "                    M7 = A_strstack[n][2 * j + 1][6] * B_strstack[n][2 * j + 1][6]\n",
        "\n",
        "                    C11 = M1 + M4 - M5 + M7\n",
        "                    C12 = M3 + M5\n",
        "                    C21 = M2 + M4\n",
        "                    C22 = M1 - M2 + M3 + M6\n",
        "\n",
        "                    C_directory[i].append(np.array([[C11[0][0], C12[0][0]], [C21[0][0], C22[0][0]]]))\n",
        "\n",
        "            else:\n",
        "                for k in range(7 ** (order - i - 1)):\n",
        "                    C_directory[i].append(np.vstack(\n",
        "                                            (np.hstack(\n",
        "                                                (C_directory[i-1][0 + 7*k] + C_directory[i-1][3 + 7*k] - C_directory[i-1][4 + 7*k] + C_directory[i-1][6 + 7*k],\n",
        "                                            C_directory[i-1][2 + 7*k] + C_directory[i-1][4 + 7*k])),\n",
        "                                            np.hstack(\n",
        "                                                (C_directory[i-1][1 + 7*k] + C_directory[i-1][3 + 7*k],\n",
        "                                            C_directory[i-1][0 + 7*k] - C_directory[i-1][1 + 7*k] + C_directory[i-1][2 + 7*k] + C_directory[i-1][5 + 7*k])))))\n",
        "\n",
        "        return C_directory[order - 1][0][:matrix_dimensions[0],:matrix_dimensions[3]]\n",
        "\n",
        "\n",
        "    # Determines padding size. Sorry no error checking but no one should be using this anyway.\n",
        "    matrix_dimensions = 4 * [None]\n",
        "    matrix_dimensions[0] = A_ori.shape[0]\n",
        "    matrix_dimensions[1] = A_ori.shape[1]\n",
        "    matrix_dimensions[2] = B_ori.shape[0]\n",
        "    matrix_dimensions[3] = B_ori.shape[1]\n",
        "\n",
        "    largest_dimension = matrix_dimensions[0]\n",
        "    for i in range(3):\n",
        "        if matrix_dimensions[i] < matrix_dimensions[i + 1]:\n",
        "            largest_dimension = matrix_dimensions[i + 1]\n",
        "\n",
        "    N = 1\n",
        "    n = 0\n",
        "    while N < largest_dimension:\n",
        "        n += 1\n",
        "        N = 2 ** n\n",
        "\n",
        "    # Creates the input directories and adds the padded A, B\n",
        "    # The input directories work with indices [order: 0 for 2^n, 1 for 2^n-1, etc][alternating stacking of the four input11...input22, then their particular M1...M7][index for previous level][row][column]\n",
        "    # The C directory works similarly as [order][index][row][column]\n",
        "    A_directory = (n + 1) * [None]\n",
        "    B_directory = (n + 1) * [None]\n",
        "    A_directory[0] = []\n",
        "    A_directory[0].append([np.pad(A_ori, ((0, N - matrix_dimensions[0]), (0, N - matrix_dimensions[1])), 'constant', constant_values=(0))])\n",
        "    B_directory[0] = []\n",
        "    B_directory[0].append([np.pad(B_ori, ((0, N - matrix_dimensions[2]), (0, N - matrix_dimensions[3])), 'constant', constant_values=(0))])\n",
        "\n",
        "    # Splits everything and completes the input directories\n",
        "    for i in range(0, n):\n",
        "        A_directory[i+1] = []\n",
        "        B_directory[i+1] = []\n",
        "        if i == 0:\n",
        "            strassen_split(A_directory[0][0][0], B_directory[0][0][0], i+1)\n",
        "        else:\n",
        "            for j in range(7**(i-1)):\n",
        "                for k in range(7):\n",
        "                    strassen_split(A_directory[i][2*j + 1][k], B_directory[i][2*j + 1][k], i+1)\n",
        "\n",
        "    # Solution\n",
        "    return strassen_stack(A_directory, B_directory, n)"
      ],
      "execution_count": 6,
      "outputs": []
    },
    {
      "cell_type": "code",
      "metadata": {
        "id": "DrUkpWvPdXwL"
      },
      "source": [
        "#Improved version I tried to optimized. Time taken to perform the multiplication is on the same order as np.matmul for the most part, but still slower.\n",
        "#Also done recursively. May be faster iteratively but this version is much simpler.\n",
        "\n",
        "import numpy as np\n",
        "import math\n",
        "\n",
        "\n",
        "def strassen_matmul_optimized(A_ori, B_ori):\n",
        "\n",
        "    matrix_dimensions = 4 * [None]\n",
        "    matrix_dimensions[0] = A_ori.shape[0]\n",
        "    matrix_dimensions[1] = A_ori.shape[1]\n",
        "    matrix_dimensions[2] = B_ori.shape[0]\n",
        "    matrix_dimensions[3] = B_ori.shape[1]\n",
        "\n",
        "    largest_dimension = matrix_dimensions[0]\n",
        "    for i in range(3):\n",
        "        if matrix_dimensions[i] < matrix_dimensions[i + 1]:\n",
        "            largest_dimension = matrix_dimensions[i + 1]\n",
        "\n",
        "    #Determines padding size. \n",
        "    #If gap between the largest dimension and the next 2^n is too large, pad to nearest multiple of some smaller 2^n\n",
        "    #and multiply as 4x4 array. Improved performance noticeably.\n",
        "    pad_size = 1; n = 0\n",
        "    while pad_size < largest_dimension:\n",
        "        n += 1\n",
        "        pad_size = 2 ** n\n",
        "    if pad_size - largest_dimension > 128:\n",
        "        main_dim = 0; n = 0\n",
        "        while main_dim < math.sqrt(largest_dimension):\n",
        "            n += 1\n",
        "            main_dim = 2 ** n\n",
        "        pad_size  = int((pad_size / 2) + math.ceil((largest_dimension - (pad_size / 2)) / main_dim) * main_dim)\n",
        "    else:\n",
        "        main_dim = pad_size\n",
        "\n",
        "    #Padding\n",
        "    A_new = np.pad(A_ori, ((0, pad_size - matrix_dimensions[0]), (0, pad_size - matrix_dimensions[1])), 'constant',\n",
        "                                  constant_values = (0))\n",
        "    B_new = np.pad(B_ori, ((0, pad_size - matrix_dimensions[2]), (0, pad_size - matrix_dimensions[3])), 'constant',\n",
        "                                  constant_values = (0))\n",
        "\n",
        "    #Reshape into 4x4 array\n",
        "    sub_dim = int(pad_size / main_dim)\n",
        "    A_new_2 = np.swapaxes(np.reshape(A_new, (main_dim, sub_dim, main_dim, sub_dim)), 1, 2)\n",
        "    B_new_2 = np.swapaxes(np.reshape(B_new, (main_dim, sub_dim, main_dim, sub_dim)), 1, 2)\n",
        "\n",
        "\n",
        "    def strassen_alg(A_str, B_str, order):\n",
        "\n",
        "        #Uses naive multiplication for small matrices. Noticeably improved performance.\n",
        "        #Also reshapes to 2x2 for solution output.\n",
        "        if order <= 7:\n",
        "            temp_dim = (2 ** order) * sub_dim\n",
        "            A_str = np.reshape(np.swapaxes(A_str, 1, 2), (temp_dim, temp_dim))\n",
        "            B_str = np.reshape(np.swapaxes(B_str, 1, 2), (temp_dim, temp_dim))\n",
        "            return np.matmul(A_str, B_str)\n",
        "\n",
        "        #Strassen Algorithm\n",
        "        else:\n",
        "            (A11, A12) = np.hsplit(np.vsplit(A_str, 2)[0], 2)\n",
        "            (A21, A22) = np.hsplit(np.vsplit(A_str, 2)[1], 2)\n",
        "            (B11, B12) = np.hsplit(np.vsplit(B_str, 2)[0], 2)\n",
        "            (B21, B22) = np.hsplit(np.vsplit(B_str, 2)[1], 2)\n",
        "\n",
        "            M1 = strassen_alg(A11 + A22, B11 + B22, order - 1)\n",
        "            M2 = strassen_alg(A21 + A22, B11, order - 1)\n",
        "            M3 = strassen_alg(A11, B12 - B22, order - 1)\n",
        "            M4 = strassen_alg(A22, B21 - B11, order - 1)\n",
        "            M5 = strassen_alg(A11 + A12, B22, order - 1)\n",
        "            M6 = strassen_alg(A21 - A11, B11 + B12, order - 1)\n",
        "            M7 = strassen_alg(A12 - A22, B21 + B22, order - 1)\n",
        "\n",
        "            C11 = M1 + M4 - M5 + M7\n",
        "            C12 = M3 + M5\n",
        "            C21 = M2 + M4\n",
        "            C22 = M1 - M2 + M3 + M6\n",
        "\n",
        "            return np.vstack((np.hstack((C11, C12)), np.hstack((C21, C22))))\n",
        "\n",
        "\n",
        "    return strassen_alg(A_new_2, B_new_2, n)[:matrix_dimensions[0],:matrix_dimensions[3]]"
      ],
      "execution_count": 1,
      "outputs": []
    },
    {
      "cell_type": "code",
      "metadata": {
        "id": "qaluBG3CeFgw",
        "outputId": "e4818dab-a504-44c3-a9f6-8709341c20cd",
        "colab": {
          "base_uri": "https://localhost:8080/"
        }
      },
      "source": [
        "#Test.\n",
        "#Optimized version can compute 15k x15k multiplications in float in about a minute, though it's still slower than np.matmul.\n",
        "\n",
        "import random\n",
        "from timeit import default_timer as timer\n",
        "\n",
        "for i in range(1):\n",
        "  randomlist = []\n",
        "  for i in range(0, 2000 * 2902):\n",
        "    n = random.uniform(1, 30)\n",
        "    randomlist.append(n)\n",
        "  A = np.reshape(randomlist, (2000, 2902))\n",
        "  randomlist = []\n",
        "  for i in range(0, 2902 * 1880):\n",
        "    n = random.uniform(1, 30)\n",
        "    randomlist.append(n)\n",
        "  B = np.reshape(randomlist, (2902, 1880))\n",
        "\n",
        "  start = timer()\n",
        "  Strassen = strassen_matmul_optimized(A, B)\n",
        "  end = timer()\n",
        "  print(\"Time taken with Strassen :\", end - start)  \n",
        "\n",
        "  start = timer()\n",
        "  Numpy = np.matmul(A, B)\n",
        "  end = timer()\n",
        "  print(\"Time taken with Numpy :\", end - start)\n",
        "\n",
        "  decp = 1\n",
        "  bol = (np.round(Strassen, decp) == np.round(Numpy, decp))\n",
        "  check = True\n",
        "  for i in range(np.shape(bol)[0]):\n",
        "    for j in range(np.shape(bol)[1]):\n",
        "      if bol[i][j] == False:\n",
        "          check = False\n",
        "  print(\"Results are equal to {} decimal places :\".format(decp), check) "
      ],
      "execution_count": 7,
      "outputs": [
        {
          "output_type": "stream",
          "text": [
            "Time taken with Strassen : 1.5612616120001803\n",
            "Time taken with Numpy: 0.6563453690000642\n",
            "Results are equal to 1 decimal places : True\n"
          ],
          "name": "stdout"
        }
      ]
    },
    {
      "cell_type": "markdown",
      "metadata": {
        "id": "CrEzUCnyZXGN"
      },
      "source": [
        "In fact, NumPy already provides us with a lot of the basic functions required to work with matrices (such as adding, subtracting and multiplying matrices). [Here](https://s3.amazonaws.com/assets.datacamp.com/blog_assets/Numpy_Python_Cheat_Sheet.pdf) you can find a brief guide to all of them. From now on you may use all the matrix manipulating (and linear algebraic) functions in NumPy freely."
      ]
    },
    {
      "cell_type": "markdown",
      "metadata": {
        "id": "VRKe2zuGMI27"
      },
      "source": [
        "## Example 2: linear systems of equations\n",
        "A linear system of $m$ equations and $n$ unknowns can be expressed as $Ax = B$, where $A$ is a $m \\times n$ matrix. For example, the system\n",
        "$$\n",
        "3x + 2y - z = 12\\\\\n",
        "x - y + 3z = 1\\\\\n",
        "4x - y + 2z = 5\n",
        "$$\n",
        "can be expressed in matrix form as\n",
        "$$\n",
        "\\begin{bmatrix}\n",
        "3 & 2 & -1\\\\\n",
        "1 & -1 & 3\\\\\n",
        "4 & -1 & 2\n",
        "\\end{bmatrix}\n",
        "\\begin{bmatrix}\n",
        "x \\\\ y \\\\ z\n",
        "\\end{bmatrix} =\n",
        "\\begin{bmatrix}\n",
        "12 \\\\ 1 \\\\ 5\n",
        "\\end{bmatrix}.\n",
        "$$"
      ]
    },
    {
      "cell_type": "markdown",
      "metadata": {
        "id": "MhBJnyHpOOYV"
      },
      "source": [
        "Then, we can use the function `np.linalg.solve` to solve a linear system of equations in matrix form. From linear algebra class, you know that $A$ must be a square matrix of full rank for the system to have an exact solution. We can use the function `np.linalg.matrix_rank` to confirm this:"
      ]
    },
    {
      "cell_type": "code",
      "metadata": {
        "id": "y5PhIzePOylS",
        "outputId": "7d21d95b-7ade-4779-a4ac-4a24fad2f4e2",
        "colab": {
          "base_uri": "https://localhost:8080/",
          "height": 34
        }
      },
      "source": [
        "A = np.array([[3, 2, -1],\n",
        "              [1, -1, 3],\n",
        "              [4, -1, 2]])\n",
        "\n",
        "A_rank2 = np.array([[3, 2, 4],\n",
        "              [1, -1, -2],\n",
        "              [4, -1, -2]])\n",
        "\n",
        "np.linalg.matrix_rank(A_rank2)"
      ],
      "execution_count": null,
      "outputs": [
        {
          "output_type": "execute_result",
          "data": {
            "text/plain": [
              "2"
            ]
          },
          "metadata": {
            "tags": []
          },
          "execution_count": 26
        }
      ]
    },
    {
      "cell_type": "markdown",
      "metadata": {
        "id": "o349QkrTPEMp"
      },
      "source": [
        "Then, we can solve the system of equations:"
      ]
    },
    {
      "cell_type": "code",
      "metadata": {
        "id": "uFQaGCjANj5d",
        "outputId": "ca69c377-4e09-4f3d-a343-d0e3dd948fc9",
        "colab": {
          "base_uri": "https://localhost:8080/",
          "height": 380
        }
      },
      "source": [
        "B = np.array([12, 1, 5])\n",
        "\n",
        "np.linalg.solve(A_rank2, B)"
      ],
      "execution_count": null,
      "outputs": [
        {
          "output_type": "error",
          "ename": "LinAlgError",
          "evalue": "ignored",
          "traceback": [
            "\u001b[0;31m---------------------------------------------------------------------------\u001b[0m",
            "\u001b[0;31mLinAlgError\u001b[0m                               Traceback (most recent call last)",
            "\u001b[0;32m<ipython-input-22-573e5ffe2f8f>\u001b[0m in \u001b[0;36m<module>\u001b[0;34m()\u001b[0m\n\u001b[1;32m      2\u001b[0m \u001b[0;34m\u001b[0m\u001b[0m\n\u001b[1;32m      3\u001b[0m \u001b[0mnp\u001b[0m\u001b[0;34m.\u001b[0m\u001b[0mlinalg\u001b[0m\u001b[0;34m.\u001b[0m\u001b[0msolve\u001b[0m\u001b[0;34m(\u001b[0m\u001b[0mA\u001b[0m\u001b[0;34m,\u001b[0m \u001b[0mB\u001b[0m\u001b[0;34m)\u001b[0m\u001b[0;34m\u001b[0m\u001b[0;34m\u001b[0m\u001b[0m\n\u001b[0;32m----> 4\u001b[0;31m \u001b[0mnp\u001b[0m\u001b[0;34m.\u001b[0m\u001b[0mlinalg\u001b[0m\u001b[0;34m.\u001b[0m\u001b[0msolve\u001b[0m\u001b[0;34m(\u001b[0m\u001b[0mA_rank2\u001b[0m\u001b[0;34m,\u001b[0m \u001b[0mB\u001b[0m\u001b[0;34m)\u001b[0m\u001b[0;34m\u001b[0m\u001b[0;34m\u001b[0m\u001b[0m\n\u001b[0m",
            "\u001b[0;32m<__array_function__ internals>\u001b[0m in \u001b[0;36msolve\u001b[0;34m(*args, **kwargs)\u001b[0m\n",
            "\u001b[0;32m/usr/local/lib/python3.6/dist-packages/numpy/linalg/linalg.py\u001b[0m in \u001b[0;36msolve\u001b[0;34m(a, b)\u001b[0m\n\u001b[1;32m    397\u001b[0m     \u001b[0msignature\u001b[0m \u001b[0;34m=\u001b[0m \u001b[0;34m'DD->D'\u001b[0m \u001b[0;32mif\u001b[0m \u001b[0misComplexType\u001b[0m\u001b[0;34m(\u001b[0m\u001b[0mt\u001b[0m\u001b[0;34m)\u001b[0m \u001b[0;32melse\u001b[0m \u001b[0;34m'dd->d'\u001b[0m\u001b[0;34m\u001b[0m\u001b[0;34m\u001b[0m\u001b[0m\n\u001b[1;32m    398\u001b[0m     \u001b[0mextobj\u001b[0m \u001b[0;34m=\u001b[0m \u001b[0mget_linalg_error_extobj\u001b[0m\u001b[0;34m(\u001b[0m\u001b[0m_raise_linalgerror_singular\u001b[0m\u001b[0;34m)\u001b[0m\u001b[0;34m\u001b[0m\u001b[0;34m\u001b[0m\u001b[0m\n\u001b[0;32m--> 399\u001b[0;31m     \u001b[0mr\u001b[0m \u001b[0;34m=\u001b[0m \u001b[0mgufunc\u001b[0m\u001b[0;34m(\u001b[0m\u001b[0ma\u001b[0m\u001b[0;34m,\u001b[0m \u001b[0mb\u001b[0m\u001b[0;34m,\u001b[0m \u001b[0msignature\u001b[0m\u001b[0;34m=\u001b[0m\u001b[0msignature\u001b[0m\u001b[0;34m,\u001b[0m \u001b[0mextobj\u001b[0m\u001b[0;34m=\u001b[0m\u001b[0mextobj\u001b[0m\u001b[0;34m)\u001b[0m\u001b[0;34m\u001b[0m\u001b[0;34m\u001b[0m\u001b[0m\n\u001b[0m\u001b[1;32m    400\u001b[0m \u001b[0;34m\u001b[0m\u001b[0m\n\u001b[1;32m    401\u001b[0m     \u001b[0;32mreturn\u001b[0m \u001b[0mwrap\u001b[0m\u001b[0;34m(\u001b[0m\u001b[0mr\u001b[0m\u001b[0;34m.\u001b[0m\u001b[0mastype\u001b[0m\u001b[0;34m(\u001b[0m\u001b[0mresult_t\u001b[0m\u001b[0;34m,\u001b[0m \u001b[0mcopy\u001b[0m\u001b[0;34m=\u001b[0m\u001b[0;32mFalse\u001b[0m\u001b[0;34m)\u001b[0m\u001b[0;34m)\u001b[0m\u001b[0;34m\u001b[0m\u001b[0;34m\u001b[0m\u001b[0m\n",
            "\u001b[0;32m/usr/local/lib/python3.6/dist-packages/numpy/linalg/linalg.py\u001b[0m in \u001b[0;36m_raise_linalgerror_singular\u001b[0;34m(err, flag)\u001b[0m\n\u001b[1;32m     95\u001b[0m \u001b[0;34m\u001b[0m\u001b[0m\n\u001b[1;32m     96\u001b[0m \u001b[0;32mdef\u001b[0m \u001b[0m_raise_linalgerror_singular\u001b[0m\u001b[0;34m(\u001b[0m\u001b[0merr\u001b[0m\u001b[0;34m,\u001b[0m \u001b[0mflag\u001b[0m\u001b[0;34m)\u001b[0m\u001b[0;34m:\u001b[0m\u001b[0;34m\u001b[0m\u001b[0;34m\u001b[0m\u001b[0m\n\u001b[0;32m---> 97\u001b[0;31m     \u001b[0;32mraise\u001b[0m \u001b[0mLinAlgError\u001b[0m\u001b[0;34m(\u001b[0m\u001b[0;34m\"Singular matrix\"\u001b[0m\u001b[0;34m)\u001b[0m\u001b[0;34m\u001b[0m\u001b[0;34m\u001b[0m\u001b[0m\n\u001b[0m\u001b[1;32m     98\u001b[0m \u001b[0;34m\u001b[0m\u001b[0m\n\u001b[1;32m     99\u001b[0m \u001b[0;32mdef\u001b[0m \u001b[0m_raise_linalgerror_nonposdef\u001b[0m\u001b[0;34m(\u001b[0m\u001b[0merr\u001b[0m\u001b[0;34m,\u001b[0m \u001b[0mflag\u001b[0m\u001b[0;34m)\u001b[0m\u001b[0;34m:\u001b[0m\u001b[0;34m\u001b[0m\u001b[0;34m\u001b[0m\u001b[0m\n",
            "\u001b[0;31mLinAlgError\u001b[0m: Singular matrix"
          ]
        }
      ]
    },
    {
      "cell_type": "markdown",
      "metadata": {
        "id": "fK0lN05nPOqs"
      },
      "source": [
        "## Exercise 2: linear regression\n",
        "Let $A$ be a $m\\times n$-matrix and $y\\in \\mathbb{R}^m$.\n",
        "We learned that the \"best\" solution of a linear system $A \\theta = y$ (which might not have exact solutions) is given by the solution of $$(A^T A) \\theta = A^T y$$\n",
        "This solution for $\\theta$ minimizes $||A\\theta - y||$. If the columns of $A$ are linearly independet (which is usually the case in real life applications), then the $n\\times n$-matrix $A^T A$ has full rank, i.e. is invertible and the above euqation can be solved exaclty. \n",
        "\n",
        "**2.1** Implement a function `best_solution(A,y)` which takes as an input a matrix $A$ and a vector $y$ as above and which outputs a vector $\\theta \\in \\mathbb{R}^n$, which is the solution of $(A^T A) \\theta = A^T y$. Use the function `np.linalg.solve` for this."
      ]
    },
    {
      "cell_type": "code",
      "metadata": {
        "id": "BbPaMt1lWt2r",
        "outputId": "5319fed9-890e-4ec0-86e6-c4ce20950eb6",
        "colab": {
          "base_uri": "https://localhost:8080/",
          "height": 34
        }
      },
      "source": [
        "def best_solution(A, y):\n",
        "\n",
        "  if np.shape(A)[0] != np.shape(y)[0]:\n",
        "    raise Exception(\"Check dimensions.\")\n",
        "\n",
        "  else:\n",
        "    A_t = np.transpose(A) \n",
        "\n",
        "  return np.linalg.solve(np.matmul(A_t, A), np.matmul(A_t, y))\n",
        "\n",
        "\n",
        "\n",
        "\n",
        "# Test\n",
        "best_solution(A_rank2, B)"
      ],
      "execution_count": null,
      "outputs": [
        {
          "output_type": "execute_result",
          "data": {
            "text/plain": [
              "array([2.09032258, 0.6516129 , 1.        ])"
            ]
          },
          "metadata": {
            "tags": []
          },
          "execution_count": 24
        }
      ]
    },
    {
      "cell_type": "markdown",
      "metadata": {
        "id": "m8KhvDF1XkSV"
      },
      "source": [
        "**2.2** Let us consider again the training example of the Tebaski example:"
      ]
    },
    {
      "cell_type": "code",
      "metadata": {
        "id": "g2uNy8O4XhfL"
      },
      "source": [
        "# Training set\n",
        "Tx = np.array([2, 7, 13, 16, 22, 27])\n",
        "Ty = np.array([5, 20, 14, 32, 22, 38])\n",
        "\n",
        "# Draw the Training set\n",
        "plt.figure(figsize=(10,8))\n",
        "plt.plot(Tx,Ty,'X')\n",
        "plt.title(\"Training set\", fontsize =20)\n",
        "plt.xlabel(\"Weeks living in Nagoya\", fontsize=18)\n",
        "plt.ylabel(\"Tebasaki eaten\", fontsize=18)"
      ],
      "execution_count": null,
      "outputs": []
    },
    {
      "cell_type": "markdown",
      "metadata": {
        "id": "6XnPl70ZXyzn"
      },
      "source": [
        "Write a function `best_fit(Tx,Ty)` which returns a vector $\\theta = \\begin{pmatrix} \\theta_0 \\\\ \\theta_1 \\end{pmatrix}$, such that the hypothesis $h(x) = \\theta_0 + \\theta_1 x$ is the best fit for our trainings set. For this create the corresponding matrix $A$ and vector $y$ from the training set Tx and Ty and use your function `best_solution(A,y)` from 2.1. "
      ]
    },
    {
      "cell_type": "code",
      "metadata": {
        "id": "Bs7HCxPHXyON"
      },
      "source": [
        "def best_fit(Tx, Ty):\n",
        "  # fill in here\n",
        "  # remove the line below after you are done\n",
        "  raise NotImplemented"
      ],
      "execution_count": null,
      "outputs": []
    },
    {
      "cell_type": "markdown",
      "metadata": {
        "id": "rAwRm2ROYVcv"
      },
      "source": [
        "Plot your result by using the following code:"
      ]
    },
    {
      "cell_type": "code",
      "metadata": {
        "id": "JCC6dmNpYrb-"
      },
      "source": [
        "# Draw the Training set\n",
        "plt.figure(figsize=(10,8))\n",
        "plt.plot(Tx,Ty,'X')\n",
        "plt.title(\"Training set\", fontsize =20)\n",
        "plt.xlabel(\"Weeks living in Nagoya\", fontsize=18)\n",
        "plt.ylabel(\"Tebasaki eaten\", fontsize=18)\n",
        "\n",
        "# Best fit (by using your own function best_fit)\n",
        "theta = best_fit(Tx, Ty)\n",
        "plt.plot(Tx, theta[0]+ theta[1]*Tx)\n",
        "plt.show()"
      ],
      "execution_count": null,
      "outputs": []
    },
    {
      "cell_type": "markdown",
      "metadata": {
        "id": "rA9b6YO2Y-4R"
      },
      "source": [
        "**2.3 (Bonus - Polynom interpolation)** Extend your function in 2.2 to also allow a parameter $d$ (the degree). The function should return a vector $\\theta=\\begin{pmatrix} \\theta_0 \\\\ \\vdots \\\\ \\theta_d \\end{pmatrix}$, such that the hypothesis $h(x) = \\theta_0 + \\theta_1 x + \\dots + \\theta_d x^d$ gives an interpolation of the trainings set. \n",
        "\n",
        "(This function is already implemente in numpy as `np.polyfit(Tx, Ty, d)`, but you should just use your function `best_solution(A,y)` again. If you want to have a 100% self written implementation, then you can also write your own version of `np.linalg.solve` for the use in `best_solution(A,y)`, by implementing the Gaussian elimination algorithm.)"
      ]
    },
    {
      "cell_type": "code",
      "metadata": {
        "id": "YMZmeEqFZcOr",
        "outputId": "fbb8c6bb-556a-4a42-a24c-654d2fdc9bfe",
        "colab": {
          "base_uri": "https://localhost:8080/",
          "height": 526
        }
      },
      "source": [
        "def best_fit2(Tx, Ty, d):\n",
        "\n",
        "  h = (len(Tx)) * [None]\n",
        "  for i in range(len(Tx)):\n",
        "    for j in range(d + 1):\n",
        "      if j == 0:\n",
        "        h[i] = []\n",
        "      h[i].append(Tx[i] ** j)\n",
        "\n",
        "  return best_solution(h, Ty)\n",
        "\n",
        "\n",
        "\n",
        "\n",
        "# Test\n",
        "# Draw the Training set\n",
        "plt.figure(figsize=(10,8))\n",
        "plt.plot(Tx,Ty,'X')\n",
        "plt.title(\"Training set\", fontsize =20)\n",
        "plt.xlabel(\"Weeks living in Nagoya\", fontsize=18)\n",
        "plt.ylabel(\"Tebasaki eaten\", fontsize=18)\n",
        "\n",
        "# Best fit (by using your own function best_fit)\n",
        "theta = best_fit2(Tx, Ty, 3)\n",
        "x = np.linspace(Tx[0], Tx[len(Tx) - 1], 200)\n",
        "poly = np.poly1d(theta[::-1])\n",
        "plt.plot(x, poly(x))\n",
        "plt.show()"
      ],
      "execution_count": null,
      "outputs": [
        {
          "output_type": "display_data",
          "data": {
            "image/png": "[encoded data removed]",
            "text/plain": [
              "<Figure size 720x576 with 1 Axes>"
            ]
          },
          "metadata": {
            "tags": [],
            "needs_background": "light"
          }
        }
      ]
    },
    {
      "cell_type": "code",
      "metadata": {
        "id": "JNwjimiidBKh"
      },
      "source": [
        ""
      ],
      "execution_count": null,
      "outputs": []
    }
  ]
}